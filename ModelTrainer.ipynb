{
  "cells": [
    {
      "cell_type": "code",
      "execution_count": 1,
      "metadata": {
        "pycharm": {
          "is_executing": false
        }
      },
      "outputs": [
        {
          "name": "stderr",
          "text": [
            "WARNING: Logging before flag parsing goes to stderr.\nW0718 14:05:09.693006  1844 deprecation_wrapper.py:119] From d:\\documents\\programming\\python\\workspace\\magic mirror\\cnn gesture recognition\\venv\\lib\\site-packages\\tflearn\\helpers\\summarizer.py:9: The name tf.summary.merge is deprecated. Please use tf.compat.v1.summary.merge instead.\n\n",
            "W0718 14:05:09.697012  1844 deprecation_wrapper.py:119] From d:\\documents\\programming\\python\\workspace\\magic mirror\\cnn gesture recognition\\venv\\lib\\site-packages\\tflearn\\helpers\\trainer.py:25: The name tf.summary.FileWriter is deprecated. Please use tf.compat.v1.summary.FileWriter instead.\n\n",
            "W0718 14:05:09.702589  1844 deprecation_wrapper.py:119] From d:\\documents\\programming\\python\\workspace\\magic mirror\\cnn gesture recognition\\venv\\lib\\site-packages\\tflearn\\collections.py:13: The name tf.GraphKeys is deprecated. Please use tf.compat.v1.GraphKeys instead.\n\n",
            "W0718 14:05:09.708591  1844 deprecation_wrapper.py:119] From d:\\documents\\programming\\python\\workspace\\magic mirror\\cnn gesture recognition\\venv\\lib\\site-packages\\tflearn\\config.py:123: The name tf.get_collection is deprecated. Please use tf.compat.v1.get_collection instead.\n\n",
            "W0718 14:05:09.714593  1844 deprecation_wrapper.py:119] From d:\\documents\\programming\\python\\workspace\\magic mirror\\cnn gesture recognition\\venv\\lib\\site-packages\\tflearn\\config.py:129: The name tf.add_to_collection is deprecated. Please use tf.compat.v1.add_to_collection instead.\n\n",
            "W0718 14:05:09.716594  1844 deprecation_wrapper.py:119] From d:\\documents\\programming\\python\\workspace\\magic mirror\\cnn gesture recognition\\venv\\lib\\site-packages\\tflearn\\config.py:131: The name tf.assign is deprecated. Please use tf.compat.v1.assign instead.\n\n"
          ],
          "output_type": "stream"
        },
        {
          "name": "stdout",
          "text": [
            "curses is not supported on this machine (please install/reinstall curses for an optimal experience)\n"
          ],
          "output_type": "stream"
        }
      ],
      "source": "import glob\nimport os\n\nimport cv2\nimport numpy as np\nfrom sklearn.utils import shuffle\n\nfrom ContinuousGesturePredictor import define_model\n"
    },
    {
      "cell_type": "code",
      "execution_count": 14,
      "metadata": {
        "pycharm": {
          "is_executing": false
        }
      },
      "outputs": [],
      "source": "# Load Images\ndataset_folder \u003d \"dataset/\"\nnum_classes \u003d len(os.listdir(dataset_folder))\n\nloadedImages \u003d []\nfor filename in glob.iglob(dataset_folder + \u0027/*/train/*\u0027, recursive\u003dTrue):\n    if os.path.isfile(filename): # filter dirs\n        image \u003d cv2.imread(filename)\n        gray_image \u003d cv2.cvtColor(image, cv2.COLOR_BGR2GRAY)\n        loadedImages.append(np.expand_dims(gray_image, 2))\n"
    },
    {
      "cell_type": "code",
      "execution_count": 15,
      "metadata": {
        "pycharm": {
          "is_executing": false
        }
      },
      "outputs": [],
      "source": "# Create OutputVector\noutputVectors \u003d []\nfor i in range(len(loadedImages)):\n    outputVectors.append([int(k \u003d\u003d i // 1000) for k in range(num_classes)])\n"
    },
    {
      "cell_type": "code",
      "execution_count": 16,
      "metadata": {
        "pycharm": {
          "is_executing": false
        }
      },
      "outputs": [],
      "source": "testImages \u003d []\n\n#Load Images for swing\nfor filename in glob.iglob(dataset_folder + \u0027/*/test/*\u0027, recursive\u003dTrue):\n    if os.path.isfile(filename): # filter dirs\n        image \u003d cv2.imread(filename)\n        gray_image \u003d cv2.cvtColor(image, cv2.COLOR_BGR2GRAY)\n        testImages.append(np.expand_dims(gray_image, 2))\n\ntestLabels \u003d []\n\nfor i in range(len(testImages)):\n    testLabels.append([int(k \u003d\u003d i // 100) for k in range(num_classes)])"
    },
    {
      "cell_type": "code",
      "execution_count": 19,
      "metadata": {
        "pycharm": {
          "is_executing": false
        }
      },
      "outputs": [],
      "source": "model \u003d define_model()"
    },
    {
      "cell_type": "code",
      "execution_count": 20,
      "metadata": {
        "pycharm": {
          "is_executing": false
        }
      },
      "outputs": [
        {
          "name": "stdout",
          "text": [
            "Training Step: 4699  | total loss: \u001b[1m\u001b[32m0.00049\u001b[0m\u001b[0m | time: 174.216s\n\u001b[2K\r| Adam | epoch: 050 | loss: 0.00049 - acc: 1.0000 -- iter: 5952/6000\n",
            "Training Step: 4700  | total loss: \u001b[1m\u001b[32m0.00045\u001b[0m\u001b[0m | time: 180.699s\n\u001b[2K\r| Adam | epoch: 050 | loss: 0.00045 - acc: 1.0000 | val_loss: 0.09662 - val_acc: 0.9917 -- iter: 6000/6000\n--\n"
          ],
          "output_type": "stream"
        }
      ],
      "source": [
        "# Shuffle Training Data\n",
        "loadedImages, outputVectors \u003d shuffle(loadedImages, outputVectors, random_state\u003d0)\n",
        "\n",
        "# Train model\n",
        "model.fit(loadedImages, outputVectors, n_epoch\u003d50,\n",
        "           validation_set \u003d (testImages, testLabels),\n",
        "           snapshot_step\u003d100, show_metric\u003dTrue, run_id\u003d\u0027convnet_coursera\u0027)\n",
        "\n",
        "model.save(\"TrainedModel/GestureRecogModel.tfl\")"
      ]
    },
    {
      "cell_type": "code",
      "execution_count": null,
      "metadata": {
        "pycharm": {}
      },
      "outputs": [],
      "source": []
    }
  ],
  "metadata": {
    "kernelspec": {
      "display_name": "Python 3",
      "language": "python",
      "name": "python3"
    },
    "language_info": {
      "codemirror_mode": {
        "name": "ipython",
        "version": 3
      },
      "file_extension": ".py",
      "mimetype": "text/x-python",
      "name": "python",
      "nbconvert_exporter": "python",
      "pygments_lexer": "ipython3",
      "version": "3.7.2"
    }
  },
  "nbformat": 4,
  "nbformat_minor": 2
}