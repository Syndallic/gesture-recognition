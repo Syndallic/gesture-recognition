{
  "cells": [
    {
      "cell_type": "code",
      "execution_count": 13,
      "metadata": {
        "pycharm": {
          "is_executing": false
        }
      },
      "outputs": [],
      "source": "import glob\nimport os\nimport tensorflow as tf\nimport tflearn\nfrom tflearn.layers.conv import conv_2d,max_pool_2d\nfrom tflearn.layers.core import input_data,dropout,fully_connected\nfrom tflearn.layers.estimator import regression\nimport numpy as np\nimport cv2\nfrom sklearn.utils import shuffle"
    },
    {
      "cell_type": "code",
      "execution_count": 14,
      "metadata": {
        "pycharm": {
          "is_executing": false
        }
      },
      "outputs": [],
      "source": "#Load Images\ndataset_folder \u003d \"Dataset/\"\nnum_classes \u003d len(os.listdir(dataset_folder))\n\nloadedImages \u003d []\nfor filename in glob.iglob(dataset_folder + \u0027/*/train/*\u0027, recursive\u003dTrue):\n    if os.path.isfile(filename): # filter dirs\n        image \u003d cv2.imread(filename)\n        gray_image \u003d cv2.cvtColor(image, cv2.COLOR_BGR2GRAY)\n        loadedImages.append(np.expand_dims(gray_image, 2))\n"
    },
    {
      "cell_type": "code",
      "execution_count": 15,
      "metadata": {
        "pycharm": {
          "is_executing": false
        }
      },
      "outputs": [],
      "source": "# Create OutputVector\n\noutputVectors \u003d []\nfor i in range(len(loadedImages)):\n    outputVectors.append([int(k \u003d\u003d i // 1000) for k in range(num_classes)])\n"
    },
    {
      "cell_type": "code",
      "execution_count": 16,
      "metadata": {
        "pycharm": {
          "is_executing": false
        }
      },
      "outputs": [],
      "source": "testImages \u003d []\n\n#Load Images for swing\n\nfor filename in glob.iglob(dataset_folder + \u0027/*/test/*\u0027, recursive\u003dTrue):\n    if os.path.isfile(filename): # filter dirs\n        image \u003d cv2.imread(filename)\n        gray_image \u003d cv2.cvtColor(image, cv2.COLOR_BGR2GRAY)\n        testImages.append(np.expand_dims(gray_image, 2))\n\ntestLabels \u003d []\n\nfor i in range(len(testImages)):\n    testLabels.append([int(k \u003d\u003d i // 100) for k in range(num_classes)])"
    },
    {
      "cell_type": "code",
      "execution_count": 19,
      "metadata": {
        "pycharm": {
          "is_executing": false
        }
      },
      "outputs": [],
      "source": "# Define the CNN Model\ntf.reset_default_graph()\nconvnet\u003dinput_data(shape\u003d[None, 215,240,1],name\u003d\u0027input\u0027)\nconvnet\u003dconv_2d(convnet,32,2,activation\u003d\u0027relu\u0027)\nconvnet\u003dmax_pool_2d(convnet,2)\nconvnet\u003dconv_2d(convnet,64,2,activation\u003d\u0027relu\u0027)\nconvnet\u003dmax_pool_2d(convnet,2)\n\nconvnet\u003dconv_2d(convnet,128,2,activation\u003d\u0027relu\u0027)\nconvnet\u003dmax_pool_2d(convnet,2)\n\nconvnet\u003dconv_2d(convnet,256,2,activation\u003d\u0027relu\u0027)\nconvnet\u003dmax_pool_2d(convnet,2)\n\nconvnet\u003dconv_2d(convnet,256,2,activation\u003d\u0027relu\u0027)\nconvnet\u003dmax_pool_2d(convnet,2)\n\nconvnet\u003dconv_2d(convnet,128,2,activation\u003d\u0027relu\u0027)\nconvnet\u003dmax_pool_2d(convnet,2)\n\nconvnet\u003dconv_2d(convnet,64,2,activation\u003d\u0027relu\u0027)\nconvnet\u003dmax_pool_2d(convnet,2)\n\nconvnet\u003dfully_connected(convnet,1000,activation\u003d\u0027relu\u0027)\nconvnet\u003ddropout(convnet,0.75)\n\nconvnet\u003dfully_connected(convnet,6,activation\u003d\u0027softmax\u0027)\n\nconvnet\u003dregression(convnet,optimizer\u003d\u0027adam\u0027,learning_rate\u003d0.001,loss\u003d\u0027categorical_crossentropy\u0027,name\u003d\u0027regression\u0027)\n\nmodel\u003dtflearn.DNN(convnet,tensorboard_verbose\u003d0)\n"
    },
    {
      "cell_type": "code",
      "execution_count": 20,
      "metadata": {
        "pycharm": {
          "is_executing": false
        }
      },
      "outputs": [
        {
          "name": "stdout",
          "text": [
            "Training Step: 4699  | total loss: \u001b[1m\u001b[32m0.00049\u001b[0m\u001b[0m | time: 174.216s\n\u001b[2K\r| Adam | epoch: 050 | loss: 0.00049 - acc: 1.0000 -- iter: 5952/6000\n",
            "Training Step: 4700  | total loss: \u001b[1m\u001b[32m0.00045\u001b[0m\u001b[0m | time: 180.699s\n\u001b[2K\r| Adam | epoch: 050 | loss: 0.00045 - acc: 1.0000 | val_loss: 0.09662 - val_acc: 0.9917 -- iter: 6000/6000\n--\n"
          ],
          "output_type": "stream"
        }
      ],
      "source": [
        "# Shuffle Training Data\n",
        "loadedImages, outputVectors \u003d shuffle(loadedImages, outputVectors, random_state\u003d0)\n",
        "\n",
        "# Train model\n",
        "model.fit(loadedImages, outputVectors, n_epoch\u003d50,\n",
        "           validation_set \u003d (testImages, testLabels),\n",
        "           snapshot_step\u003d100, show_metric\u003dTrue, run_id\u003d\u0027convnet_coursera\u0027)\n",
        "\n",
        "model.save(\"TrainedModel/GestureRecogModel.tfl\")"
      ]
    },
    {
      "cell_type": "code",
      "execution_count": null,
      "metadata": {
        "pycharm": {}
      },
      "outputs": [],
      "source": []
    }
  ],
  "metadata": {
    "kernelspec": {
      "display_name": "Python 3",
      "language": "python",
      "name": "python3"
    },
    "language_info": {
      "codemirror_mode": {
        "name": "ipython",
        "version": 3
      },
      "file_extension": ".py",
      "mimetype": "text/x-python",
      "name": "python",
      "nbconvert_exporter": "python",
      "pygments_lexer": "ipython3",
      "version": "3.7.2"
    }
  },
  "nbformat": 4,
  "nbformat_minor": 2
}